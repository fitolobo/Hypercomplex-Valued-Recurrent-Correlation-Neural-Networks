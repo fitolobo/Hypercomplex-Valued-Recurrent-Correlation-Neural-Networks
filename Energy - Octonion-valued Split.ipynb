{
 "cells": [
  {
   "cell_type": "code",
   "execution_count": 1,
   "metadata": {},
   "outputs": [],
   "source": [
    "using LinearAlgebra\n",
    "using PyPlot\n",
    "using Random\n",
    "using Statistics\n",
    "using Printf\n",
    "using JLD2, FileIO\n",
    "include(\"HyperECNNs.jl\")\n",
    "rng = MersenneTwister(0);"
   ]
  },
  {
   "cell_type": "code",
   "execution_count": 2,
   "metadata": {},
   "outputs": [
    {
     "ename": "LoadError",
     "evalue": "syntax: line break in \":\" expression",
     "output_type": "error",
     "traceback": [
      "syntax: line break in \":\" expression",
      ""
     ]
    }
   ],
   "source": [
    "MarkerList = [\"o\",\"s\",\"v\",\"^\",\">\",\"<\"]:\n",
    "LineStyleList = [\"solid\",\"dashed\",\"solid\",\"dashed\",\"solid\",\"dashed\"]:"
   ]
  },
  {
   "cell_type": "code",
   "execution_count": 3,
   "metadata": {},
   "outputs": [
    {
     "ename": "UndefVarError",
     "evalue": "UndefVarError: LineStyleList not defined",
     "output_type": "error",
     "traceback": [
      "UndefVarError: LineStyleList not defined",
      "",
      "Stacktrace:",
      " [1] top-level scope at ./In[3]:14"
     ]
    }
   ],
   "source": [
    "N = 100\n",
    "P = 160\n",
    "alpha = 10/(8*N)\n",
    "beta = -10\n",
    "\n",
    "for i=1:3\n",
    "    U = rand(rng,[-1,+1],(N,8,P))\n",
    "    \n",
    "    x = rand(rng,[-1,+1],(N,8))\n",
    "\n",
    "    y, Energy_Sync = HyperECNNs.Sync(HyperECNNs.LambdaInner,[1,1,1,1,1,1,1,1],HyperECNNs.SplitSign,nothing,U,x,alpha,beta)\n",
    "    y, Energy_Seq = HyperECNNs.Seq(HyperECNNs.LambdaInner,[1,1,1,1,1,1,1,1],HyperECNNs.SplitSign,nothing,U,x,alpha,beta)\n",
    "    \n",
    "    plot(collect(0:length(Energy_Sync)-1),Energy_Sync, linestyle = LineStyleList[1], marker = MarkerList[i], label = \"Synchronous\")\n",
    "    plot(collect(0:length(Energy_Seq)-1)/N,Energy_Seq, linestyle = LineStyleList[2], marker = MarkerList[i], markevery=50,  mfc=\"none\", label = \"Asynchronous\")\n",
    "end\n",
    "xlabel(\"t\")\n",
    "ylabel(\"Energy\")\n",
    "title(\"Octonion-valued ECNN with split sign activation function\")\n",
    "legend()\n",
    "grid()\n",
    "savefig(\"Figures/EnergyOctonionSplit.eps\")\n",
    "savefig(\"Figures/EnergyOctonionSplit.pdf\")"
   ]
  }
 ],
 "metadata": {
  "@webio": {
   "lastCommId": null,
   "lastKernelId": null
  },
  "kernelspec": {
   "display_name": "Julia 1.0.5",
   "language": "julia",
   "name": "julia-1.0"
  },
  "language_info": {
   "file_extension": ".jl",
   "mimetype": "application/julia",
   "name": "julia",
   "version": "1.0.5"
  }
 },
 "nbformat": 4,
 "nbformat_minor": 2
}
